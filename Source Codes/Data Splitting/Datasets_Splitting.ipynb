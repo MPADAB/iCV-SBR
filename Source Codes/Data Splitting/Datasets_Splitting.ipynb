{
 "cells": [
  {
   "cell_type": "code",
   "execution_count": 2,
   "metadata": {},
   "outputs": [],
   "source": [
    "from datetime import datetime\n",
    "import pandas as pd\n",
    "import numpy as np\n",
    "import random\n",
    "import time"
   ]
  },
  {
   "cell_type": "markdown",
   "metadata": {},
   "source": [
    "# Dataset Details"
   ]
  },
  {
   "cell_type": "code",
   "execution_count": 2,
   "metadata": {},
   "outputs": [],
   "source": [
    "def properties(path, sid, iid):\n",
    "    todrop = []\n",
    "    data = pd.read_csv(path, sep = '\\t')\n",
    "    data.sort_values([sid, 'Time'], inplace = True)\n",
    "    data = data.reset_index(drop=True)\n",
    "    for i, row in data.iterrows():\n",
    "        if i == 0:\n",
    "            old_row = row\n",
    "            continue\n",
    "        if old_row[sid] == row[sid] and old_row[iid] == row[iid]:\n",
    "            todrop.append(i)\n",
    "        old_row = row\n",
    "        \n",
    "    data.drop(todrop, axis = 0, inplace = True)\n",
    "    clicks = len(data)\n",
    "    print('Number of Clicks', clicks)\n",
    "    sessions = len(data.groupby(sid))\n",
    "    print('Number of Sessions', sessions)\n",
    "    items = len(data.groupby(iid))\n",
    "    print('Number of Items', items)\n",
    "    print('Average Session Length', clicks / sessions)"
   ]
  },
  {
   "cell_type": "code",
   "execution_count": 41,
   "metadata": {},
   "outputs": [
    {
     "name": "stdout",
     "output_type": "stream",
     "text": [
      "Number of Clicks 10731643\n",
      "Number of Sessions 1567725\n",
      "Number of Items 618770\n",
      "Average Session Length 6.845360634039771\n"
     ]
    }
   ],
   "source": [
    "properties('tmall15-raw/processed/tmall15_train_full.txt', 'SessionId', 'ItemId')"
   ]
  },
  {
   "cell_type": "code",
   "execution_count": 33,
   "metadata": {},
   "outputs": [
    {
     "name": "stdout",
     "output_type": "stream",
     "text": [
      "Number of Clicks 93526\n",
      "Number of Sessions 10041\n",
      "Number of Items 43439\n",
      "Average Session Length 9.314410915247485\n"
     ]
    }
   ],
   "source": [
    "properties('Benchmarking/TMall/TMall_test.csv', 'SessionID', 'ItemID')"
   ]
  },
  {
   "cell_type": "code",
   "execution_count": 44,
   "metadata": {},
   "outputs": [
    {
     "data": {
      "text/plain": [
       "1577766"
      ]
     },
     "execution_count": 44,
     "metadata": {},
     "output_type": "execute_result"
    }
   ],
   "source": [
    "(1567725+10041)"
   ]
  },
  {
   "cell_type": "code",
   "execution_count": 42,
   "metadata": {},
   "outputs": [
    {
     "data": {
      "text/plain": [
       "6.861073822100362"
      ]
     },
     "execution_count": 42,
     "metadata": {},
     "output_type": "execute_result"
    }
   ],
   "source": [
    "(10731643+93526) / (1567725+10041)"
   ]
  },
  {
   "cell_type": "markdown",
   "metadata": {},
   "source": [
    "# RecSys15"
   ]
  },
  {
   "cell_type": "code",
   "execution_count": 113,
   "metadata": {},
   "outputs": [],
   "source": [
    "import matplotlib.pyplot as plt\n",
    "data = pd.read_csv('Benchmarking/RecSys/recSys15Valid.csv')\n",
    "#data = pd.read_csv('Benchmarking/TMall/TMall_test.csv')\n",
    "#data = pd.read_csv('Benchmarking/Digintica/Digintica_test.csv')\n",
    "#data = pd.read_csv('Benchmarking/RetailRocket/RetailRocket_test.csv')"
   ]
  },
  {
   "cell_type": "code",
   "execution_count": 111,
   "metadata": {},
   "outputs": [],
   "source": [
    "prv_item = -1; prv_ssn = -1; inx = []\n",
    "for i, row in data.iterrows():\n",
    "    if prv_ssn == row['sessionId'] and prv_item == row['itemId']:\n",
    "        inx.append(i)\n",
    "    prv_ssn = row['sessionId']; prv_item = row['itemId']\n",
    "\n",
    "data.drop(data.index[inx], inplace=True)"
   ]
  },
  {
   "cell_type": "code",
   "execution_count": 8,
   "metadata": {},
   "outputs": [
    {
     "name": "stdout",
     "output_type": "stream",
     "text": [
      "Finished_Short\n",
      "Finished_Intermediate\n",
      "Finished_Long\n"
     ]
    }
   ],
   "source": [
    "## Keep Only Short Sessions < 5\n",
    "data_short = data_grouped.filter(lambda x: len(x) < 5)\n",
    "print('Finished_Short')\n",
    "\n",
    "## Keep Only Intermediate Sessions >= 5 and < 10\n",
    "data_intermediate = data_grouped.filter(lambda x: len(x) >= 5 and len(x) < 10)\n",
    "print('Finished_Intermediate')\n",
    "\n",
    "## Keep Only Long Sessions >= 10\n",
    "data_long = data_grouped.filter(lambda x: len(x) >= 10)\n",
    "print('Finished_Long')"
   ]
  },
  {
   "cell_type": "code",
   "execution_count": 9,
   "metadata": {},
   "outputs": [
    {
     "data": {
      "text/html": [
       "<div>\n",
       "<style scoped>\n",
       "    .dataframe tbody tr th:only-of-type {\n",
       "        vertical-align: middle;\n",
       "    }\n",
       "\n",
       "    .dataframe tbody tr th {\n",
       "        vertical-align: top;\n",
       "    }\n",
       "\n",
       "    .dataframe thead th {\n",
       "        text-align: right;\n",
       "    }\n",
       "</style>\n",
       "<table border=\"1\" class=\"dataframe\">\n",
       "  <thead>\n",
       "    <tr style=\"text-align: right;\">\n",
       "      <th></th>\n",
       "      <th>SessionID</th>\n",
       "      <th>Time</th>\n",
       "      <th>ItemID</th>\n",
       "    </tr>\n",
       "  </thead>\n",
       "  <tbody>\n",
       "    <tr>\n",
       "      <td>0</td>\n",
       "      <td>1</td>\n",
       "      <td>1.396857e+09</td>\n",
       "      <td>214536502</td>\n",
       "    </tr>\n",
       "    <tr>\n",
       "      <td>1</td>\n",
       "      <td>1</td>\n",
       "      <td>1.396857e+09</td>\n",
       "      <td>214536500</td>\n",
       "    </tr>\n",
       "    <tr>\n",
       "      <td>2</td>\n",
       "      <td>1</td>\n",
       "      <td>1.396857e+09</td>\n",
       "      <td>214536506</td>\n",
       "    </tr>\n",
       "    <tr>\n",
       "      <td>3</td>\n",
       "      <td>1</td>\n",
       "      <td>1.396857e+09</td>\n",
       "      <td>214577561</td>\n",
       "    </tr>\n",
       "    <tr>\n",
       "      <td>10</td>\n",
       "      <td>3</td>\n",
       "      <td>1.396434e+09</td>\n",
       "      <td>214716935</td>\n",
       "    </tr>\n",
       "  </tbody>\n",
       "</table>\n",
       "</div>"
      ],
      "text/plain": [
       "    SessionID          Time     ItemID\n",
       "0           1  1.396857e+09  214536502\n",
       "1           1  1.396857e+09  214536500\n",
       "2           1  1.396857e+09  214536506\n",
       "3           1  1.396857e+09  214577561\n",
       "10          3  1.396434e+09  214716935"
      ]
     },
     "execution_count": 9,
     "metadata": {},
     "output_type": "execute_result"
    }
   ],
   "source": [
    "data_short.head()"
   ]
  },
  {
   "cell_type": "code",
   "execution_count": 10,
   "metadata": {},
   "outputs": [],
   "source": [
    "#Save Splits Short\n",
    "data_short.to_csv('2-a-1(short).csv', index=False)\n",
    "#Save Splits Intermediate\n",
    "data_intermediate.to_csv('2-a-2(Intermediate).csv', index=False)\n",
    "#Save Splits Long\n",
    "data_long.to_csv('2-a-3(Long).csv', index=False)"
   ]
  },
  {
   "cell_type": "code",
   "execution_count": 11,
   "metadata": {},
   "outputs": [],
   "source": [
    "del data_grouped\n",
    "del data_short\n",
    "del data_intermediate\n",
    "del data_long"
   ]
  },
  {
   "cell_type": "markdown",
   "metadata": {},
   "source": [
    "c. Which model performs better for small/large period of time of dataset collection?"
   ]
  },
  {
   "cell_type": "code",
   "execution_count": 25,
   "metadata": {},
   "outputs": [],
   "source": [
    "sec_per_day = 86400\n",
    "last_date = data.iloc[-1,1]\n",
    "first_date = data.iloc[0,1]\n",
    "#two days\n",
    "data_recent2 = data[data['Time'] > (last_date - sec_per_day * 2)]\n",
    "#one Week\n",
    "data_recent7 = data[data['Time'] > (last_date - sec_per_day * 7)]\n",
    "#two weeks\n",
    "data_recent14 = data[data['Time'] > (last_date - sec_per_day * 14)]\n",
    "#One Month\n",
    "data_recent30 = data[data['Time'] > (last_date - sec_per_day * 30)]\n",
    "#More than One Month\n",
    "#data"
   ]
  },
  {
   "cell_type": "code",
   "execution_count": 14,
   "metadata": {},
   "outputs": [
    {
     "data": {
      "text/html": [
       "<div>\n",
       "<style scoped>\n",
       "    .dataframe tbody tr th:only-of-type {\n",
       "        vertical-align: middle;\n",
       "    }\n",
       "\n",
       "    .dataframe tbody tr th {\n",
       "        vertical-align: top;\n",
       "    }\n",
       "\n",
       "    .dataframe thead th {\n",
       "        text-align: right;\n",
       "    }\n",
       "</style>\n",
       "<table border=\"1\" class=\"dataframe\">\n",
       "  <thead>\n",
       "    <tr style=\"text-align: right;\">\n",
       "      <th></th>\n",
       "      <th>SessionID</th>\n",
       "      <th>Time</th>\n",
       "      <th>ItemID</th>\n",
       "    </tr>\n",
       "  </thead>\n",
       "  <tbody>\n",
       "    <tr>\n",
       "      <td>29753408</td>\n",
       "      <td>11249479</td>\n",
       "      <td>1.411403e+09</td>\n",
       "      <td>214834935</td>\n",
       "    </tr>\n",
       "    <tr>\n",
       "      <td>29753409</td>\n",
       "      <td>11249479</td>\n",
       "      <td>1.411403e+09</td>\n",
       "      <td>214582942</td>\n",
       "    </tr>\n",
       "    <tr>\n",
       "      <td>29753410</td>\n",
       "      <td>11249479</td>\n",
       "      <td>1.411403e+09</td>\n",
       "      <td>214582942</td>\n",
       "    </tr>\n",
       "    <tr>\n",
       "      <td>29753690</td>\n",
       "      <td>11249649</td>\n",
       "      <td>1.411404e+09</td>\n",
       "      <td>214848605</td>\n",
       "    </tr>\n",
       "    <tr>\n",
       "      <td>29753691</td>\n",
       "      <td>11249649</td>\n",
       "      <td>1.411404e+09</td>\n",
       "      <td>214853072</td>\n",
       "    </tr>\n",
       "  </tbody>\n",
       "</table>\n",
       "</div>"
      ],
      "text/plain": [
       "          SessionID          Time     ItemID\n",
       "29753408   11249479  1.411403e+09  214834935\n",
       "29753409   11249479  1.411403e+09  214582942\n",
       "29753410   11249479  1.411403e+09  214582942\n",
       "29753690   11249649  1.411404e+09  214848605\n",
       "29753691   11249649  1.411404e+09  214853072"
      ]
     },
     "execution_count": 14,
     "metadata": {},
     "output_type": "execute_result"
    }
   ],
   "source": [
    "data_recent2.head()"
   ]
  },
  {
   "cell_type": "code",
   "execution_count": 15,
   "metadata": {},
   "outputs": [],
   "source": [
    "#Save 2 days\n",
    "data_recent2.to_csv('2-c-1(2days).csv', index=False)\n",
    "#Save 7 days\n",
    "data_recent7.to_csv('2-c-2(7days).csv', index=False)\n",
    "#Save 14 days\n",
    "data_recent14.to_csv('2-c-3(14days).csv', index=False)\n",
    "#Save 30 days\n",
    "data_recent30.to_csv('2-c-4(30days).csv', index=False)"
   ]
  },
  {
   "cell_type": "code",
   "execution_count": 16,
   "metadata": {},
   "outputs": [],
   "source": [
    "del data_recent2\n",
    "del data_recent7\n",
    "del data_recent14\n",
    "del data_recent30"
   ]
  },
  {
   "cell_type": "markdown",
   "metadata": {},
   "source": [
    "d. How model is affected by data recency? Recent data is enough or needs history?"
   ]
  },
  {
   "cell_type": "code",
   "execution_count": 51,
   "metadata": {},
   "outputs": [],
   "source": [
    "#most recent 10\n",
    "data_recent10 = data[data['Time'] > (last_date - sec_per_day * 10)]\n",
    "#most old 10\n",
    "data_old10 = data[data['Time'] < (first_date + sec_per_day * 10)]\n",
    "#mix old 5 and recent 5\n",
    "data_mix1 = data[data['Time'] < (first_date + sec_per_day * 5)] \n",
    "data_mix2 = data[data['Time'] > (last_date - sec_per_day * 5)]\n",
    "data_mix = data_mix1.append(data_mix2, ignore_index=True)"
   ]
  },
  {
   "cell_type": "code",
   "execution_count": 52,
   "metadata": {},
   "outputs": [],
   "source": [
    "#Save most recent\n",
    "data_recent10.to_csv('2-d-1(recent).csv', index=False)\n",
    "#Save most old\n",
    "data_old10.to_csv('2-d-2(old).csv', index=False)\n",
    "#Save mix\n",
    "data_mix.to_csv('2-d-3(mix).csv', index=False)"
   ]
  },
  {
   "cell_type": "code",
   "execution_count": 53,
   "metadata": {},
   "outputs": [],
   "source": [
    "del data_recent10\n",
    "del data_old10\n",
    "del data_mix"
   ]
  },
  {
   "cell_type": "markdown",
   "metadata": {},
   "source": [
    "e. Which model performs better at cold start problem (new item (freq < 5) / short session (length < 5) ) ?\n",
    "\n",
    "**Train Using 2-c-4(2days).csv and Validate using the following splits**"
   ]
  },
  {
   "cell_type": "code",
   "execution_count": 17,
   "metadata": {},
   "outputs": [],
   "source": [
    "data_test = pd.read_csv('RecSys_Dataset_After/recSys15Valid.txt')\n",
    "data_test_grouped = data_test.groupby('SessionID')"
   ]
  },
  {
   "cell_type": "markdown",
   "metadata": {},
   "source": [
    "**Sessions Part**"
   ]
  },
  {
   "cell_type": "code",
   "execution_count": 18,
   "metadata": {},
   "outputs": [
    {
     "name": "stdout",
     "output_type": "stream",
     "text": [
      "Finished_Short\n",
      "Finished_Intermediate\n",
      "Finished_Long\n"
     ]
    }
   ],
   "source": [
    "## Keep Only Short Test Sessions < 5\n",
    "data_test_short = data_test_grouped.filter(lambda x: len(x) < 5)\n",
    "print('Finished_Short')\n",
    "\n",
    "## Keep Only Intermediate Test Sessions >= 5 and < 10\n",
    "data_test_intermediate = data_test_grouped.filter(lambda x: len(x) >= 5 and len(x) < 10)\n",
    "print('Finished_Intermediate')\n",
    "\n",
    "## Keep Only Long Test Sessions >= 10\n",
    "data_test_long = data_test_grouped.filter(lambda x: len(x) >= 10)\n",
    "print('Finished_Long')"
   ]
  },
  {
   "cell_type": "code",
   "execution_count": 19,
   "metadata": {},
   "outputs": [],
   "source": [
    "#Save Splits Short\n",
    "data_test_short.to_csv('2-e-1(test-short).csv', index=False)\n",
    "#Save Splits Intermediate\n",
    "data_test_intermediate.to_csv('2-e-2(test-Intermediate).csv', index=False)\n",
    "#Save Splits Long\n",
    "data_test_long.to_csv('2-e-3(test-Long).csv', index=False)"
   ]
  },
  {
   "cell_type": "code",
   "execution_count": 20,
   "metadata": {},
   "outputs": [],
   "source": [
    "del data_test_short\n",
    "del data_test_intermediate\n",
    "del data_test_long"
   ]
  },
  {
   "cell_type": "markdown",
   "metadata": {},
   "source": [
    "**Items Part**"
   ]
  },
  {
   "cell_type": "code",
   "execution_count": 35,
   "metadata": {},
   "outputs": [],
   "source": [
    "items_counts = data_recent2['ItemID'].value_counts().to_dict()\n",
    "data_test_cpy = data_test.copy(deep = True)"
   ]
  },
  {
   "cell_type": "code",
   "execution_count": 40,
   "metadata": {},
   "outputs": [],
   "source": [
    "for i, row in data_test_cpy.iterrows():\n",
    "    if row['ItemID'] in items_counts.keys() and items_counts[row['ItemID']] < 50:\n",
    "        data_test_cpy.loc[i,'freq_threshold'] = 50\n",
    "    elif row['ItemID'] in items_counts.keys() and items_counts[row['ItemID']] < 100:\n",
    "        data_test_cpy.loc[i,'freq_threshold'] = 100\n",
    "    elif row['ItemID'] in items_counts.keys() and items_counts[row['ItemID']] < 200:\n",
    "        data_test_cpy.loc[i,'freq_threshold'] = 200\n",
    "    elif row['ItemID'] in items_counts.keys() and items_counts[row['ItemID']] < 300:\n",
    "        data_test_cpy.loc[i,'freq_threshold'] = 300\n",
    "    else:\n",
    "        data_test_cpy.loc[i,'freq_threshold'] = 301"
   ]
  },
  {
   "cell_type": "code",
   "execution_count": 41,
   "metadata": {},
   "outputs": [],
   "source": [
    "#Save Splits Short\n",
    "data_test_cpy.to_csv('2-e-4(freq-threshold).csv', index=False)"
   ]
  },
  {
   "cell_type": "code",
   "execution_count": 24,
   "metadata": {},
   "outputs": [],
   "source": [
    "del data_test_cpy"
   ]
  },
  {
   "cell_type": "markdown",
   "metadata": {},
   "source": [
    "f. Which model performs better at small/high number of recommended items K (ie. Recall@K - MRR@K) ?"
   ]
  },
  {
   "cell_type": "markdown",
   "metadata": {},
   "source": [
    "**For each of the above experiments:**\n",
    "1. Record Recall@3, Recall@5, Recall@10, Recall@20, Recall@30\n",
    "2. Record MRR@3, MRR@5, MRR@10, MRR@20, MRR@30"
   ]
  },
  {
   "cell_type": "markdown",
   "metadata": {},
   "source": [
    "### 3. What is the effect of adding Item Features on the previous questions?\n",
    "\n",
    "**Not Applicable in this Dataset**"
   ]
  },
  {
   "cell_type": "markdown",
   "metadata": {},
   "source": [
    "### 4. Under constraints of lack of data which model performs better?"
   ]
  },
  {
   "cell_type": "code",
   "execution_count": 54,
   "metadata": {},
   "outputs": [],
   "source": [
    "data_2 = data.iloc[-int(len(data) / 2) :]   #just take 1/2 last instances\n",
    "data_8 = data.iloc[-int(len(data) / 8) :]   #just take 1/8 last instances\n",
    "data_16 = data.iloc[-int(len(data) / 16) :]   #just take 1/16 last instances\n",
    "data_64 = data.iloc[-int(len(data) / 64) :]   #just take 1/64 last instances\n",
    "data_256 = data.iloc[-int(len(data) / 256) :]   #just take 1/256 last instances"
   ]
  },
  {
   "cell_type": "code",
   "execution_count": 59,
   "metadata": {},
   "outputs": [],
   "source": [
    "all_ids = data['SessionID'].unique()\n",
    "random.shuffle(all_ids)"
   ]
  },
  {
   "cell_type": "code",
   "execution_count": 62,
   "metadata": {},
   "outputs": [
    {
     "name": "stdout",
     "output_type": "stream",
     "text": [
      "Finished_Short\n",
      "Finished_Short\n",
      "Finished_Short\n",
      "Finished_Short\n"
     ]
    }
   ],
   "source": [
    "ids = all_ids[: int(len(all_ids) / 2)]\n",
    "data_2 = data[data['SessionID'].isin(ids)]\n",
    "print('Finished_Short')\n",
    "\n",
    "ids = all_ids[: int(len(all_ids) / 8)]\n",
    "data_8 = data[data['SessionID'].isin(ids)]\n",
    "print('Finished_Short')\n",
    "\n",
    "ids = all_ids[: int(len(all_ids) / 16)]\n",
    "data_16 = data[data['SessionID'].isin(ids)]\n",
    "print('Finished_Short')\n",
    "\n",
    "ids = all_ids[: int(len(all_ids) / 64)]\n",
    "data_64 = data[data['SessionID'].isin(ids)]\n",
    "print('Finished_Short')\n",
    "\n",
    "ids = all_ids[: int(len(all_ids) / 256)]\n",
    "data_256 = data[data['SessionID'].isin(ids)]\n",
    "\n",
    "data_2.to_csv('4-1(2 portion).csv', index=False)\n",
    "data_8.to_csv('4-2(8 portion).csv', index=False)\n",
    "data_16.to_csv('4-3(16 portion).csv', index=False)\n",
    "data_64.to_csv('4-4(64 portion).csv', index=False)\n",
    "data_256.to_csv('4-5(256 portion).csv', index=False)"
   ]
  },
  {
   "cell_type": "code",
   "execution_count": 63,
   "metadata": {},
   "outputs": [],
   "source": [
    "del data_2\n",
    "del data_8\n",
    "del data_16\n",
    "del data_64\n",
    "del data_256"
   ]
  },
  {
   "cell_type": "markdown",
   "metadata": {},
   "source": [
    "### 5. How to evaluate recommendation system in a standard way?"
   ]
  },
  {
   "cell_type": "markdown",
   "metadata": {},
   "source": [
    "**Train Using 4-3(16 portion).csv and measure the following metrics on test set for K = 1, 3, 5, 10, 20**:\n",
    "\n",
    "**Experiments should be done on the same machine**\n",
    "\n",
    "a. items popularity = Average(Frequency of predicted item from training set / Frequency of most frequent item in training set)  \n",
    "\n",
    "b. item coverage = (Number of distinct predicted items / Number of distinct total items in test set).\n",
    "\n",
    "c. Mean Reciprocal Rank\n",
    "\n",
    "d. Recall\n",
    "\n",
    "d. Time (Training Time + Testing Time) and Memory complexities"
   ]
  },
  {
   "cell_type": "markdown",
   "metadata": {},
   "source": [
    "# RetailRocket"
   ]
  },
  {
   "cell_type": "code",
   "execution_count": 144,
   "metadata": {},
   "outputs": [],
   "source": [
    "data = pd.read_csv('retailrocket/processed/events_train_full.txt', sep = '\\t')\n",
    "data.columns = ['Time', 'UserID', 'ItemID', 'SessionID']\n",
    "\n",
    "prv_item = -1; prv_ssn = -1; inx = []\n",
    "for i, row in data.iterrows():\n",
    "    if prv_ssn == row['SessionID'] and prv_item == row['ItemID']:\n",
    "        inx.append(i)\n",
    "    prv_ssn = row['SessionID']; prv_item = row['ItemID']\n",
    "\n",
    "data.drop(data.index[inx], inplace=True)"
   ]
  },
  {
   "cell_type": "markdown",
   "metadata": {},
   "source": [
    "### 2. Which deep learning model is better for different dataset meta-features values using only Session ID and item ID\n",
    "a. Which model performs better when we have short/long session length?"
   ]
  },
  {
   "cell_type": "code",
   "execution_count": 145,
   "metadata": {},
   "outputs": [],
   "source": [
    "data_grouped = data.groupby('SessionID')"
   ]
  },
  {
   "cell_type": "code",
   "execution_count": 146,
   "metadata": {},
   "outputs": [
    {
     "name": "stdout",
     "output_type": "stream",
     "text": [
      "Finished_Short\n",
      "Finished_Intermediate\n",
      "Finished_Long\n"
     ]
    }
   ],
   "source": [
    "## Keep Only Short Sessions < 5\n",
    "data_short = data_grouped.filter(lambda x: len(x) < 5)\n",
    "print('Finished_Short')\n",
    "\n",
    "## Keep Only Intermediate Sessions >= 5 and < 10\n",
    "data_intermediate = data_grouped.filter(lambda x: len(x) >= 5 and len(x) < 10)\n",
    "print('Finished_Intermediate')\n",
    "\n",
    "## Keep Only Long Sessions >= 10\n",
    "data_long = data_grouped.filter(lambda x: len(x) >= 10)\n",
    "print('Finished_Long')"
   ]
  },
  {
   "cell_type": "code",
   "execution_count": 147,
   "metadata": {},
   "outputs": [
    {
     "data": {
      "text/html": [
       "<div>\n",
       "<style scoped>\n",
       "    .dataframe tbody tr th:only-of-type {\n",
       "        vertical-align: middle;\n",
       "    }\n",
       "\n",
       "    .dataframe tbody tr th {\n",
       "        vertical-align: top;\n",
       "    }\n",
       "\n",
       "    .dataframe thead th {\n",
       "        text-align: right;\n",
       "    }\n",
       "</style>\n",
       "<table border=\"1\" class=\"dataframe\">\n",
       "  <thead>\n",
       "    <tr style=\"text-align: right;\">\n",
       "      <th></th>\n",
       "      <th>Time</th>\n",
       "      <th>UserID</th>\n",
       "      <th>ItemID</th>\n",
       "      <th>SessionID</th>\n",
       "    </tr>\n",
       "  </thead>\n",
       "  <tbody>\n",
       "    <tr>\n",
       "      <td>0</td>\n",
       "      <td>1442004589</td>\n",
       "      <td>0</td>\n",
       "      <td>285930</td>\n",
       "      <td>0</td>\n",
       "    </tr>\n",
       "    <tr>\n",
       "      <td>1</td>\n",
       "      <td>1442004759</td>\n",
       "      <td>0</td>\n",
       "      <td>357564</td>\n",
       "      <td>0</td>\n",
       "    </tr>\n",
       "    <tr>\n",
       "      <td>2</td>\n",
       "      <td>1442004917</td>\n",
       "      <td>0</td>\n",
       "      <td>67045</td>\n",
       "      <td>0</td>\n",
       "    </tr>\n",
       "    <tr>\n",
       "      <td>11</td>\n",
       "      <td>1440916778</td>\n",
       "      <td>6</td>\n",
       "      <td>253615</td>\n",
       "      <td>7</td>\n",
       "    </tr>\n",
       "    <tr>\n",
       "      <td>12</td>\n",
       "      <td>1440916823</td>\n",
       "      <td>6</td>\n",
       "      <td>344723</td>\n",
       "      <td>7</td>\n",
       "    </tr>\n",
       "  </tbody>\n",
       "</table>\n",
       "</div>"
      ],
      "text/plain": [
       "          Time  UserID  ItemID  SessionID\n",
       "0   1442004589       0  285930          0\n",
       "1   1442004759       0  357564          0\n",
       "2   1442004917       0   67045          0\n",
       "11  1440916778       6  253615          7\n",
       "12  1440916823       6  344723          7"
      ]
     },
     "execution_count": 147,
     "metadata": {},
     "output_type": "execute_result"
    }
   ],
   "source": [
    "data_short.head()"
   ]
  },
  {
   "cell_type": "code",
   "execution_count": 148,
   "metadata": {},
   "outputs": [],
   "source": [
    "#Save Splits Short\n",
    "data_short.to_csv('2-a-1(short).csv', index=False)\n",
    "#Save Splits Intermediate\n",
    "data_intermediate.to_csv('2-a-2(Intermediate).csv', index=False)\n",
    "#Save Splits Long\n",
    "data_long.to_csv('2-a-3(Long).csv', index=False)"
   ]
  },
  {
   "cell_type": "code",
   "execution_count": 149,
   "metadata": {},
   "outputs": [],
   "source": [
    "data.to_csv('Train.csv', index=False)"
   ]
  },
  {
   "cell_type": "code",
   "execution_count": 150,
   "metadata": {},
   "outputs": [],
   "source": [
    "del data_grouped\n",
    "del data_short\n",
    "del data_intermediate\n",
    "del data_long"
   ]
  },
  {
   "cell_type": "markdown",
   "metadata": {},
   "source": [
    "c. Which model performs better for small/large period of time of dataset collection?"
   ]
  },
  {
   "cell_type": "code",
   "execution_count": 151,
   "metadata": {},
   "outputs": [
    {
     "name": "stdout",
     "output_type": "stream",
     "text": [
      "1442372382 1430622033\n"
     ]
    }
   ],
   "source": [
    "sec_per_day = 86400\n",
    "last_date = max(data.iloc[:,0])\n",
    "first_date = min(data.iloc[:,0])\n",
    "print(last_date, first_date)\n",
    "#two days\n",
    "data_recent2 = data[data['Time'] > (last_date - sec_per_day * 2)]\n",
    "#one Week\n",
    "data_recent7 = data[data['Time'] > (last_date - sec_per_day * 7)]\n",
    "#two weeks\n",
    "data_recent14 = data[data['Time'] > (last_date - sec_per_day * 14)]\n",
    "#One Month\n",
    "data_recent30 = data[data['Time'] > (last_date - sec_per_day * 30)]\n",
    "#More than One Month\n",
    "#data"
   ]
  },
  {
   "cell_type": "code",
   "execution_count": 152,
   "metadata": {},
   "outputs": [
    {
     "data": {
      "text/html": [
       "<div>\n",
       "<style scoped>\n",
       "    .dataframe tbody tr th:only-of-type {\n",
       "        vertical-align: middle;\n",
       "    }\n",
       "\n",
       "    .dataframe tbody tr th {\n",
       "        vertical-align: top;\n",
       "    }\n",
       "\n",
       "    .dataframe thead th {\n",
       "        text-align: right;\n",
       "    }\n",
       "</style>\n",
       "<table border=\"1\" class=\"dataframe\">\n",
       "  <thead>\n",
       "    <tr style=\"text-align: right;\">\n",
       "      <th></th>\n",
       "      <th>Time</th>\n",
       "      <th>UserID</th>\n",
       "      <th>ItemID</th>\n",
       "      <th>SessionID</th>\n",
       "    </tr>\n",
       "  </thead>\n",
       "  <tbody>\n",
       "    <tr>\n",
       "      <td>36</td>\n",
       "      <td>1442338531</td>\n",
       "      <td>54</td>\n",
       "      <td>388096</td>\n",
       "      <td>66</td>\n",
       "    </tr>\n",
       "    <tr>\n",
       "      <td>37</td>\n",
       "      <td>1442338665</td>\n",
       "      <td>54</td>\n",
       "      <td>283115</td>\n",
       "      <td>66</td>\n",
       "    </tr>\n",
       "    <tr>\n",
       "      <td>38</td>\n",
       "      <td>1442338748</td>\n",
       "      <td>54</td>\n",
       "      <td>38965</td>\n",
       "      <td>66</td>\n",
       "    </tr>\n",
       "    <tr>\n",
       "      <td>39</td>\n",
       "      <td>1442338841</td>\n",
       "      <td>54</td>\n",
       "      <td>319680</td>\n",
       "      <td>66</td>\n",
       "    </tr>\n",
       "    <tr>\n",
       "      <td>40</td>\n",
       "      <td>1442339111</td>\n",
       "      <td>54</td>\n",
       "      <td>283115</td>\n",
       "      <td>66</td>\n",
       "    </tr>\n",
       "  </tbody>\n",
       "</table>\n",
       "</div>"
      ],
      "text/plain": [
       "          Time  UserID  ItemID  SessionID\n",
       "36  1442338531      54  388096         66\n",
       "37  1442338665      54  283115         66\n",
       "38  1442338748      54   38965         66\n",
       "39  1442338841      54  319680         66\n",
       "40  1442339111      54  283115         66"
      ]
     },
     "execution_count": 152,
     "metadata": {},
     "output_type": "execute_result"
    }
   ],
   "source": [
    "data_recent2.head()"
   ]
  },
  {
   "cell_type": "code",
   "execution_count": 153,
   "metadata": {},
   "outputs": [],
   "source": [
    "#Save 2 days\n",
    "data_recent2.to_csv('2-c-1(2days).csv', index=False)\n",
    "#Save 7 days\n",
    "data_recent7.to_csv('2-c-2(7days).csv', index=False)\n",
    "#Save 14 days\n",
    "data_recent14.to_csv('2-c-3(14days).csv', index=False)\n",
    "#Save 30 days\n",
    "data_recent30.to_csv('2-c-4(30days).csv', index=False)"
   ]
  },
  {
   "cell_type": "code",
   "execution_count": 154,
   "metadata": {},
   "outputs": [],
   "source": [
    "del data_recent2\n",
    "del data_recent7\n",
    "del data_recent14\n",
    "del data_recent30"
   ]
  },
  {
   "cell_type": "markdown",
   "metadata": {},
   "source": [
    "d. How model is affected by data recency? Recent data is enough or needs history?"
   ]
  },
  {
   "cell_type": "code",
   "execution_count": 155,
   "metadata": {},
   "outputs": [],
   "source": [
    "#most recent 10\n",
    "data_recent10 = data[data['Time'] > (last_date - sec_per_day * 20)]\n",
    "#most old 10\n",
    "data_old10 = data[data['Time'] < (first_date + sec_per_day * 20)]\n",
    "#mix old 5 and recent 5\n",
    "data_mix1 = data[data['Time'] < (first_date + sec_per_day * 10)] \n",
    "data_mix2 = data[data['Time'] > (last_date - sec_per_day * 10)]\n",
    "data_mix = data_mix1.append(data_mix2, ignore_index=True)"
   ]
  },
  {
   "cell_type": "code",
   "execution_count": 156,
   "metadata": {},
   "outputs": [],
   "source": [
    "#Save most recent\n",
    "data_recent10.to_csv('2-d-1(recent).csv', index=False)\n",
    "#Save most old\n",
    "data_old10.to_csv('2-d-2(old).csv', index=False)\n",
    "#Save mix\n",
    "data_mix.to_csv('2-d-3(mix).csv', index=False)"
   ]
  },
  {
   "cell_type": "code",
   "execution_count": 157,
   "metadata": {},
   "outputs": [],
   "source": [
    "del data_recent10\n",
    "del data_old10\n",
    "del data_mix"
   ]
  },
  {
   "cell_type": "markdown",
   "metadata": {},
   "source": [
    "e. Which model performs better at cold start problem (new item (freq < 5) / short session (length < 5) ) ?\n",
    "\n",
    "**Train Using 2-c-4(2days).csv and Validate using the following splits**"
   ]
  },
  {
   "cell_type": "code",
   "execution_count": 159,
   "metadata": {},
   "outputs": [],
   "source": [
    "data_test = pd.read_csv('retailrocket/processed/events_test.txt', sep = '\\t')\n",
    "data_test.columns = ['Time', 'UserID', 'ItemID', 'SessionID']\n",
    "data_test_grouped = data_test.groupby('SessionID')"
   ]
  },
  {
   "cell_type": "markdown",
   "metadata": {},
   "source": [
    "**Sessions Part**"
   ]
  },
  {
   "cell_type": "code",
   "execution_count": 160,
   "metadata": {},
   "outputs": [
    {
     "name": "stdout",
     "output_type": "stream",
     "text": [
      "Finished_Short\n",
      "Finished_Intermediate\n",
      "Finished_Long\n"
     ]
    }
   ],
   "source": [
    "## Keep Only Short Test Sessions < 5\n",
    "data_test_short = data_test_grouped.filter(lambda x: len(x) < 5)\n",
    "print('Finished_Short')\n",
    "\n",
    "## Keep Only Intermediate Test Sessions >= 5 and < 10\n",
    "data_test_intermediate = data_test_grouped.filter(lambda x: len(x) >= 5 and len(x) < 10)\n",
    "print('Finished_Intermediate')\n",
    "\n",
    "## Keep Only Long Test Sessions >= 10\n",
    "data_test_long = data_test_grouped.filter(lambda x: len(x) >= 10)\n",
    "print('Finished_Long')"
   ]
  },
  {
   "cell_type": "code",
   "execution_count": 161,
   "metadata": {},
   "outputs": [],
   "source": [
    "data_test.to_csv('Rocket_Test.csv', index=False)"
   ]
  },
  {
   "cell_type": "code",
   "execution_count": 162,
   "metadata": {},
   "outputs": [],
   "source": [
    "#Save Splits Short\n",
    "data_test_short.to_csv('2-e-1(test-short).csv', index=False)\n",
    "#Save Splits Intermediate\n",
    "data_test_intermediate.to_csv('2-e-2(test-intermediate).csv', index=False)\n",
    "#Save Splits Long\n",
    "data_test_long.to_csv('2-e-3(test-long).csv', index=False)"
   ]
  },
  {
   "cell_type": "code",
   "execution_count": 163,
   "metadata": {},
   "outputs": [],
   "source": [
    "del data_test_short\n",
    "del data_test_intermediate\n",
    "del data_test_long"
   ]
  },
  {
   "cell_type": "markdown",
   "metadata": {},
   "source": [
    "**Items Part**"
   ]
  },
  {
   "cell_type": "code",
   "execution_count": 164,
   "metadata": {},
   "outputs": [],
   "source": [
    "items_counts = data['ItemID'].value_counts().to_dict()\n",
    "data_test_cpy = data_test.copy(deep = True)"
   ]
  },
  {
   "cell_type": "code",
   "execution_count": 165,
   "metadata": {},
   "outputs": [],
   "source": [
    "for i, row in data_test_cpy.iterrows():\n",
    "    if row['ItemID'] in items_counts.keys() and items_counts[row['ItemID']] < 10:\n",
    "        data_test_cpy.loc[i,'freq_threshold'] = 10\n",
    "    elif row['ItemID'] in items_counts.keys() and items_counts[row['ItemID']] < 30:\n",
    "        data_test_cpy.loc[i,'freq_threshold'] = 30\n",
    "    elif row['ItemID'] in items_counts.keys() and items_counts[row['ItemID']] < 60:\n",
    "        data_test_cpy.loc[i,'freq_threshold'] = 60\n",
    "    elif row['ItemID'] in items_counts.keys() and items_counts[row['ItemID']] < 100:\n",
    "        data_test_cpy.loc[i,'freq_threshold'] = 100\n",
    "    else:\n",
    "        data_test_cpy.loc[i,'freq_threshold'] = 101"
   ]
  },
  {
   "cell_type": "code",
   "execution_count": 166,
   "metadata": {},
   "outputs": [],
   "source": [
    "#Save Splits Short\n",
    "data_test_cpy.to_csv('2-e-4(freq-threshold).csv', index=False)"
   ]
  },
  {
   "cell_type": "code",
   "execution_count": 167,
   "metadata": {},
   "outputs": [],
   "source": [
    "del data_test_cpy"
   ]
  },
  {
   "cell_type": "markdown",
   "metadata": {},
   "source": [
    "f. Which model performs better at small/high number of recommended items K (ie. Recall@K - MRR@K) ?"
   ]
  },
  {
   "cell_type": "markdown",
   "metadata": {},
   "source": [
    "**For each of the above experiments:**\n",
    "1. Record Recall@3, Recall@5, Recall@10, Recall@20, Recall@30\n",
    "2. Record MRR@3, MRR@5, MRR@10, MRR@20, MRR@30"
   ]
  },
  {
   "cell_type": "markdown",
   "metadata": {},
   "source": [
    "### 4. Under constraints of lack of data which model performs better?"
   ]
  },
  {
   "cell_type": "code",
   "execution_count": 168,
   "metadata": {},
   "outputs": [],
   "source": [
    "data_2 = data.iloc[-int(len(data) / 2) :]   #just take 1/2 last instances\n",
    "data_8 = data.iloc[-int(len(data) / 8) :]   #just take 1/8 last instances\n",
    "data_16 = data.iloc[-int(len(data) / 16) :]   #just take 1/16 last instances\n",
    "data_64 = data.iloc[-int(len(data) / 64) :]   #just take 1/64 last instances\n",
    "data_256 = data.iloc[-int(len(data) / 256) :]   #just take 1/256 last instances"
   ]
  },
  {
   "cell_type": "code",
   "execution_count": 169,
   "metadata": {},
   "outputs": [],
   "source": [
    "all_ids = data['SessionID'].unique()\n",
    "random.shuffle(all_ids)"
   ]
  },
  {
   "cell_type": "code",
   "execution_count": 170,
   "metadata": {},
   "outputs": [
    {
     "name": "stdout",
     "output_type": "stream",
     "text": [
      "Finished_Short\n",
      "Finished_Short\n",
      "Finished_Short\n",
      "Finished_Short\n"
     ]
    }
   ],
   "source": [
    "ids = all_ids[: int(len(all_ids) / 2)]\n",
    "data_2 = data[data['SessionID'].isin(ids)]\n",
    "print('Finished_Short')\n",
    "\n",
    "ids = all_ids[: int(len(all_ids) / 8)]\n",
    "data_8 = data[data['SessionID'].isin(ids)]\n",
    "print('Finished_Short')\n",
    "\n",
    "ids = all_ids[: int(len(all_ids) / 16)]\n",
    "data_16 = data[data['SessionID'].isin(ids)]\n",
    "print('Finished_Short')\n",
    "\n",
    "ids = all_ids[: int(len(all_ids) / 64)]\n",
    "data_64 = data[data['SessionID'].isin(ids)]\n",
    "print('Finished_Short')\n",
    "\n",
    "ids = all_ids[: int(len(all_ids) / 256)]\n",
    "data_256 = data[data['SessionID'].isin(ids)]\n",
    "\n",
    "data_2.to_csv('4-1(2 portion).csv', index=False)\n",
    "data_8.to_csv('4-2(8 portion).csv', index=False)\n",
    "data_16.to_csv('4-3(16 portion).csv', index=False)\n",
    "data_64.to_csv('4-4(64 portion).csv', index=False)\n",
    "data_256.to_csv('4-5(256 portion).csv', index=False)"
   ]
  },
  {
   "cell_type": "code",
   "execution_count": 171,
   "metadata": {},
   "outputs": [],
   "source": [
    "del data_2\n",
    "del data_8\n",
    "del data_16\n",
    "del data_64\n",
    "del data_256"
   ]
  },
  {
   "cell_type": "markdown",
   "metadata": {},
   "source": [
    "### 5. How to evaluate recommendation system in a standard way?"
   ]
  },
  {
   "cell_type": "markdown",
   "metadata": {},
   "source": [
    "**Train Using 4-3(16 portion).csv and measure the following metrics on test set for K = 1, 3, 5, 10, 20**:\n",
    "\n",
    "**Experiments should be done on the same machine**\n",
    "\n",
    "a. items popularity = Average(Frequency of predicted item from training set / Frequency of most frequent item in training set)  \n",
    "\n",
    "b. item coverage = (Number of distinct predicted items / Number of distinct total items in test set).\n",
    "\n",
    "c. Mean Reciprocal Rank\n",
    "\n",
    "d. Recall\n",
    "\n",
    "d. Time (Training Time + Testing Time) and Memory complexities"
   ]
  },
  {
   "cell_type": "markdown",
   "metadata": {},
   "source": [
    "# TMall"
   ]
  },
  {
   "cell_type": "code",
   "execution_count": 178,
   "metadata": {},
   "outputs": [],
   "source": [
    "data = pd.read_csv('tmall15-raw/processed/tmall15_train_full.txt', sep = '\\t')\n",
    "data.columns = ['UserID', 'ItemID', 'SessionID', 'Time']\n",
    "\n",
    "prv_item = -1; prv_ssn = -1; inx = []\n",
    "for i, row in data.iterrows():\n",
    "    if prv_ssn == row['SessionId'] and prv_item == row['ItemID']:\n",
    "        inx.append(i)\n",
    "    prv_ssn = row['SessionId']; prv_item = row['ItemID']\n",
    "\n",
    "data.drop(data.index[inx], inplace=True)"
   ]
  },
  {
   "cell_type": "code",
   "execution_count": 179,
   "metadata": {},
   "outputs": [
    {
     "data": {
      "text/html": [
       "<div>\n",
       "<style scoped>\n",
       "    .dataframe tbody tr th:only-of-type {\n",
       "        vertical-align: middle;\n",
       "    }\n",
       "\n",
       "    .dataframe tbody tr th {\n",
       "        vertical-align: top;\n",
       "    }\n",
       "\n",
       "    .dataframe thead th {\n",
       "        text-align: right;\n",
       "    }\n",
       "</style>\n",
       "<table border=\"1\" class=\"dataframe\">\n",
       "  <thead>\n",
       "    <tr style=\"text-align: right;\">\n",
       "      <th></th>\n",
       "      <th>UserID</th>\n",
       "      <th>ItemID</th>\n",
       "      <th>SessionID</th>\n",
       "      <th>Time</th>\n",
       "    </tr>\n",
       "  </thead>\n",
       "  <tbody>\n",
       "    <tr>\n",
       "      <td>0</td>\n",
       "      <td>328862</td>\n",
       "      <td>706479</td>\n",
       "      <td>1813025</td>\n",
       "      <td>1.442783e+09</td>\n",
       "    </tr>\n",
       "    <tr>\n",
       "      <td>1</td>\n",
       "      <td>328862</td>\n",
       "      <td>544690</td>\n",
       "      <td>1813025</td>\n",
       "      <td>1.442783e+09</td>\n",
       "    </tr>\n",
       "    <tr>\n",
       "      <td>2</td>\n",
       "      <td>328862</td>\n",
       "      <td>93242</td>\n",
       "      <td>1813025</td>\n",
       "      <td>1.442783e+09</td>\n",
       "    </tr>\n",
       "    <tr>\n",
       "      <td>3</td>\n",
       "      <td>328862</td>\n",
       "      <td>605963</td>\n",
       "      <td>1813025</td>\n",
       "      <td>1.442783e+09</td>\n",
       "    </tr>\n",
       "    <tr>\n",
       "      <td>4</td>\n",
       "      <td>328862</td>\n",
       "      <td>589922</td>\n",
       "      <td>1813025</td>\n",
       "      <td>1.442783e+09</td>\n",
       "    </tr>\n",
       "  </tbody>\n",
       "</table>\n",
       "</div>"
      ],
      "text/plain": [
       "   UserID  ItemID  SessionID          Time\n",
       "0  328862  706479    1813025  1.442783e+09\n",
       "1  328862  544690    1813025  1.442783e+09\n",
       "2  328862   93242    1813025  1.442783e+09\n",
       "3  328862  605963    1813025  1.442783e+09\n",
       "4  328862  589922    1813025  1.442783e+09"
      ]
     },
     "execution_count": 179,
     "metadata": {},
     "output_type": "execute_result"
    }
   ],
   "source": [
    "data.head()"
   ]
  },
  {
   "cell_type": "markdown",
   "metadata": {},
   "source": [
    "### 2. Which deep learning model is better for different dataset meta-features values using only Session ID and item ID\n",
    "a. Which model performs better when we have short/long session length?"
   ]
  },
  {
   "cell_type": "code",
   "execution_count": 180,
   "metadata": {},
   "outputs": [],
   "source": [
    "data_grouped = data.groupby('SessionID')"
   ]
  },
  {
   "cell_type": "code",
   "execution_count": 181,
   "metadata": {},
   "outputs": [
    {
     "name": "stdout",
     "output_type": "stream",
     "text": [
      "Finished_Short\n",
      "Finished_Intermediate\n",
      "Finished_Long\n"
     ]
    }
   ],
   "source": [
    "## Keep Only Short Sessions < 5\n",
    "data_short = data_grouped.filter(lambda x: len(x) < 5)\n",
    "print('Finished_Short')\n",
    "\n",
    "## Keep Only Intermediate Sessions >= 5 and < 10\n",
    "data_intermediate = data_grouped.filter(lambda x: len(x) >= 5 and len(x) < 10)\n",
    "print('Finished_Intermediate')\n",
    "\n",
    "## Keep Only Long Sessions >= 10\n",
    "data_long = data_grouped.filter(lambda x: len(x) >= 10)\n",
    "print('Finished_Long')"
   ]
  },
  {
   "cell_type": "code",
   "execution_count": 182,
   "metadata": {},
   "outputs": [
    {
     "data": {
      "text/html": [
       "<div>\n",
       "<style scoped>\n",
       "    .dataframe tbody tr th:only-of-type {\n",
       "        vertical-align: middle;\n",
       "    }\n",
       "\n",
       "    .dataframe tbody tr th {\n",
       "        vertical-align: top;\n",
       "    }\n",
       "\n",
       "    .dataframe thead th {\n",
       "        text-align: right;\n",
       "    }\n",
       "</style>\n",
       "<table border=\"1\" class=\"dataframe\">\n",
       "  <thead>\n",
       "    <tr style=\"text-align: right;\">\n",
       "      <th></th>\n",
       "      <th>UserID</th>\n",
       "      <th>ItemID</th>\n",
       "      <th>SessionID</th>\n",
       "      <th>Time</th>\n",
       "    </tr>\n",
       "  </thead>\n",
       "  <tbody>\n",
       "    <tr>\n",
       "      <td>5</td>\n",
       "      <td>328862</td>\n",
       "      <td>313424</td>\n",
       "      <td>1813030</td>\n",
       "      <td>1.444684e+09</td>\n",
       "    </tr>\n",
       "    <tr>\n",
       "      <td>6</td>\n",
       "      <td>328862</td>\n",
       "      <td>313424</td>\n",
       "      <td>1813030</td>\n",
       "      <td>1.444684e+09</td>\n",
       "    </tr>\n",
       "    <tr>\n",
       "      <td>7</td>\n",
       "      <td>328862</td>\n",
       "      <td>1024236</td>\n",
       "      <td>1813027</td>\n",
       "      <td>1.443733e+09</td>\n",
       "    </tr>\n",
       "    <tr>\n",
       "      <td>8</td>\n",
       "      <td>328862</td>\n",
       "      <td>99493</td>\n",
       "      <td>1813027</td>\n",
       "      <td>1.443733e+09</td>\n",
       "    </tr>\n",
       "    <tr>\n",
       "      <td>9</td>\n",
       "      <td>328862</td>\n",
       "      <td>251929</td>\n",
       "      <td>1813027</td>\n",
       "      <td>1.443733e+09</td>\n",
       "    </tr>\n",
       "  </tbody>\n",
       "</table>\n",
       "</div>"
      ],
      "text/plain": [
       "   UserID   ItemID  SessionID          Time\n",
       "5  328862   313424    1813030  1.444684e+09\n",
       "6  328862   313424    1813030  1.444684e+09\n",
       "7  328862  1024236    1813027  1.443733e+09\n",
       "8  328862    99493    1813027  1.443733e+09\n",
       "9  328862   251929    1813027  1.443733e+09"
      ]
     },
     "execution_count": 182,
     "metadata": {},
     "output_type": "execute_result"
    }
   ],
   "source": [
    "data_short.head()"
   ]
  },
  {
   "cell_type": "code",
   "execution_count": 183,
   "metadata": {},
   "outputs": [],
   "source": [
    "#Save Splits Short\n",
    "data_short.to_csv('2-a-1(short).csv', index=False)\n",
    "#Save Splits Intermediate\n",
    "data_intermediate.to_csv('2-a-2(intermediate).csv', index=False)\n",
    "#Save Splits Long\n",
    "data_long.to_csv('2-a-3(long).csv', index=False)"
   ]
  },
  {
   "cell_type": "code",
   "execution_count": 184,
   "metadata": {},
   "outputs": [],
   "source": [
    "del data_grouped\n",
    "del data_short\n",
    "del data_intermediate\n",
    "del data_long"
   ]
  },
  {
   "cell_type": "markdown",
   "metadata": {},
   "source": [
    "c. Which model performs better for small/large period of time of dataset collection?"
   ]
  },
  {
   "cell_type": "code",
   "execution_count": 185,
   "metadata": {},
   "outputs": [
    {
     "name": "stdout",
     "output_type": "stream",
     "text": [
      "1440968400.0 1446069895.0\n"
     ]
    }
   ],
   "source": [
    "last_date = max(data['Time'])\n",
    "first_date = min(data['Time'])\n",
    "print(first_date, last_date)"
   ]
  },
  {
   "cell_type": "code",
   "execution_count": 199,
   "metadata": {},
   "outputs": [
    {
     "name": "stdout",
     "output_type": "stream",
     "text": [
      "1446069895.0\n"
     ]
    }
   ],
   "source": [
    "sec_per_day = 86400\n",
    "print(last_date)\n",
    "#two days\n",
    "data_recent2 = data[data['Time'] > (last_date - sec_per_day * 2)]\n",
    "#one Week\n",
    "data_recent7 = data[data['Time'] > (last_date - sec_per_day * 7)]\n",
    "#two weeks\n",
    "data_recent14 = data[data['Time'] > (last_date - sec_per_day * 14)]\n",
    "#One Month\n",
    "data_recent30 = data[data['Time'] > (last_date - sec_per_day * 30)]\n",
    "#More than One Month\n",
    "#data"
   ]
  },
  {
   "cell_type": "code",
   "execution_count": 187,
   "metadata": {},
   "outputs": [
    {
     "data": {
      "text/html": [
       "<div>\n",
       "<style scoped>\n",
       "    .dataframe tbody tr th:only-of-type {\n",
       "        vertical-align: middle;\n",
       "    }\n",
       "\n",
       "    .dataframe tbody tr th {\n",
       "        vertical-align: top;\n",
       "    }\n",
       "\n",
       "    .dataframe thead th {\n",
       "        text-align: right;\n",
       "    }\n",
       "</style>\n",
       "<table border=\"1\" class=\"dataframe\">\n",
       "  <thead>\n",
       "    <tr style=\"text-align: right;\">\n",
       "      <th></th>\n",
       "      <th>UserID</th>\n",
       "      <th>ItemID</th>\n",
       "      <th>SessionID</th>\n",
       "      <th>Time</th>\n",
       "    </tr>\n",
       "  </thead>\n",
       "  <tbody>\n",
       "    <tr>\n",
       "      <td>368</td>\n",
       "      <td>237078</td>\n",
       "      <td>52943</td>\n",
       "      <td>1304381</td>\n",
       "      <td>1.445983e+09</td>\n",
       "    </tr>\n",
       "    <tr>\n",
       "      <td>369</td>\n",
       "      <td>237078</td>\n",
       "      <td>1038902</td>\n",
       "      <td>1304381</td>\n",
       "      <td>1.445983e+09</td>\n",
       "    </tr>\n",
       "    <tr>\n",
       "      <td>411</td>\n",
       "      <td>300681</td>\n",
       "      <td>155199</td>\n",
       "      <td>1657228</td>\n",
       "      <td>1.446070e+09</td>\n",
       "    </tr>\n",
       "    <tr>\n",
       "      <td>412</td>\n",
       "      <td>300681</td>\n",
       "      <td>14674</td>\n",
       "      <td>1657228</td>\n",
       "      <td>1.446070e+09</td>\n",
       "    </tr>\n",
       "    <tr>\n",
       "      <td>413</td>\n",
       "      <td>300681</td>\n",
       "      <td>440085</td>\n",
       "      <td>1657228</td>\n",
       "      <td>1.446070e+09</td>\n",
       "    </tr>\n",
       "  </tbody>\n",
       "</table>\n",
       "</div>"
      ],
      "text/plain": [
       "     UserID   ItemID  SessionID          Time\n",
       "368  237078    52943    1304381  1.445983e+09\n",
       "369  237078  1038902    1304381  1.445983e+09\n",
       "411  300681   155199    1657228  1.446070e+09\n",
       "412  300681    14674    1657228  1.446070e+09\n",
       "413  300681   440085    1657228  1.446070e+09"
      ]
     },
     "execution_count": 187,
     "metadata": {},
     "output_type": "execute_result"
    }
   ],
   "source": [
    "data_recent2.head()"
   ]
  },
  {
   "cell_type": "code",
   "execution_count": 188,
   "metadata": {},
   "outputs": [],
   "source": [
    "#Save 2 days\n",
    "data_recent2.to_csv('2-c-1(2days).csv', index=False)\n",
    "#Save 7 days\n",
    "data_recent7.to_csv('2-c-2(7days).csv', index=False)\n",
    "#Save 14 days\n",
    "data_recent14.to_csv('2-c-3(14days).csv', index=False)\n",
    "#Save 30 days\n",
    "data_recent30.to_csv('2-c-4(30days).csv', index=False)"
   ]
  },
  {
   "cell_type": "code",
   "execution_count": 189,
   "metadata": {},
   "outputs": [],
   "source": [
    "del data_recent7\n",
    "del data_recent14\n",
    "del data_recent30"
   ]
  },
  {
   "cell_type": "markdown",
   "metadata": {},
   "source": [
    "d. How model is affected by data recency? Recent data is enough or needs history?"
   ]
  },
  {
   "cell_type": "code",
   "execution_count": 190,
   "metadata": {},
   "outputs": [],
   "source": [
    "#most recent 10\n",
    "data_recent10 = data[data['Time'] > (last_date - sec_per_day * 10)]\n",
    "#most old 10\n",
    "data_old10 = data[data['Time'] < (first_date + sec_per_day * 10)]\n",
    "#mix old 5 and recent 5\n",
    "data_mix1 = data[data['Time'] < (first_date + sec_per_day * 5)] \n",
    "data_mix2 = data[data['Time'] > (last_date - sec_per_day * 5)]\n",
    "data_mix = data_mix1.append(data_mix2, ignore_index=True)"
   ]
  },
  {
   "cell_type": "code",
   "execution_count": 191,
   "metadata": {},
   "outputs": [],
   "source": [
    "#Save most recent\n",
    "data_recent10.to_csv('2-d-1(recent).csv', index=False)\n",
    "#Save most old\n",
    "data_old10.to_csv('2-d-2(old).csv', index=False)\n",
    "#Save mix\n",
    "data_mix.to_csv('2-d-3(mix).csv', index=False)"
   ]
  },
  {
   "cell_type": "code",
   "execution_count": 192,
   "metadata": {},
   "outputs": [],
   "source": [
    "del data_recent10\n",
    "del data_old10\n",
    "del data_mix"
   ]
  },
  {
   "cell_type": "markdown",
   "metadata": {},
   "source": [
    "e. Which model performs better at cold start problem (new item (freq < 5) / short session (length < 5) ) ?\n",
    "\n",
    "**Train Using 2-c-4(2days).csv and Validate using the following splits**"
   ]
  },
  {
   "cell_type": "code",
   "execution_count": 2,
   "metadata": {},
   "outputs": [],
   "source": [
    "data_test = pd.read_csv('tmall15-raw/processed/tmall15_test.txt', sep = '\\t')\n",
    "data_test.columns = ['UserID', 'ItemID', 'SessionID', 'Time']\n",
    "data_test_grouped = data_test.groupby('SessionID')\n",
    "data_test.to_csv('TMall_test.csv', index = False)"
   ]
  },
  {
   "cell_type": "code",
   "execution_count": 194,
   "metadata": {},
   "outputs": [
    {
     "name": "stdout",
     "output_type": "stream",
     "text": [
      "1446156000.0 1446156554.0\n"
     ]
    }
   ],
   "source": [
    "last_datet = max(data_test['Time'])\n",
    "first_datet = min(data_test['Time'])\n",
    "print(first_datet, last_datet)"
   ]
  },
  {
   "cell_type": "markdown",
   "metadata": {},
   "source": [
    "**Sessions Part**"
   ]
  },
  {
   "cell_type": "code",
   "execution_count": 195,
   "metadata": {},
   "outputs": [
    {
     "name": "stdout",
     "output_type": "stream",
     "text": [
      "Finished_Short\n",
      "Finished_Intermediate\n",
      "Finished_Long\n"
     ]
    }
   ],
   "source": [
    "## Keep Only Short Test Sessions < 5\n",
    "data_test_short = data_test_grouped.filter(lambda x: len(x) < 5)\n",
    "print('Finished_Short')\n",
    "\n",
    "## Keep Only Intermediate Test Sessions >= 5 and < 10\n",
    "data_test_intermediate = data_test_grouped.filter(lambda x: len(x) >= 5 and len(x) < 10)\n",
    "print('Finished_Intermediate')\n",
    "\n",
    "## Keep Only Long Test Sessions >= 10\n",
    "data_test_long = data_test_grouped.filter(lambda x: len(x) >= 10)\n",
    "print('Finished_Long')"
   ]
  },
  {
   "cell_type": "code",
   "execution_count": 196,
   "metadata": {},
   "outputs": [],
   "source": [
    "#Save Splits Short\n",
    "data_test_short.to_csv('2-e-1(test-short).csv', index=False)\n",
    "#Save Splits Intermediate\n",
    "data_test_intermediate.to_csv('2-e-2(test-intermediate).csv', index=False)\n",
    "#Save Splits Long\n",
    "data_test_long.to_csv('2-e-3(test-long).csv', index=False)"
   ]
  },
  {
   "cell_type": "code",
   "execution_count": 197,
   "metadata": {},
   "outputs": [],
   "source": [
    "del data_test_short\n",
    "del data_test_intermediate\n",
    "del data_test_long"
   ]
  },
  {
   "cell_type": "markdown",
   "metadata": {},
   "source": [
    "**Items Part**"
   ]
  },
  {
   "cell_type": "code",
   "execution_count": 200,
   "metadata": {},
   "outputs": [],
   "source": [
    "items_counts = data_recent2['ItemID'].value_counts().to_dict()\n",
    "data_test_cpy = data_test.copy(deep = True)"
   ]
  },
  {
   "cell_type": "code",
   "execution_count": 201,
   "metadata": {},
   "outputs": [],
   "source": [
    "for i, row in data_test_cpy.iterrows():\n",
    "    if row['ItemID'] in items_counts.keys() and items_counts[row['ItemID']] < 50:\n",
    "        data_test_cpy.loc[i,'freq_threshold'] = 50\n",
    "    elif row['ItemID'] in items_counts.keys() and items_counts[row['ItemID']] < 100:\n",
    "        data_test_cpy.loc[i,'freq_threshold'] = 100\n",
    "    elif row['ItemID'] in items_counts.keys() and items_counts[row['ItemID']] < 200:\n",
    "        data_test_cpy.loc[i,'freq_threshold'] = 200\n",
    "    elif row['ItemID'] in items_counts.keys() and items_counts[row['ItemID']] < 300:\n",
    "        data_test_cpy.loc[i,'freq_threshold'] = 300\n",
    "    else:\n",
    "        data_test_cpy.loc[i,'freq_threshold'] = 301"
   ]
  },
  {
   "cell_type": "code",
   "execution_count": 202,
   "metadata": {},
   "outputs": [],
   "source": [
    "#Save Splits Short\n",
    "data_test_cpy.to_csv('2-e-4(freq-threshold).csv', index=False)"
   ]
  },
  {
   "cell_type": "code",
   "execution_count": 203,
   "metadata": {},
   "outputs": [],
   "source": [
    "del data_test_cpy"
   ]
  },
  {
   "cell_type": "markdown",
   "metadata": {},
   "source": [
    "f. Which model performs better at small/high number of recommended items K (ie. Recall@K - MRR@K) ?"
   ]
  },
  {
   "cell_type": "markdown",
   "metadata": {},
   "source": [
    "**For each of the above experiments:**\n",
    "1. Record Recall@3, Recall@5, Recall@10, Recall@20, Recall@30\n",
    "2. Record MRR@3, MRR@5, MRR@10, MRR@20, MRR@30"
   ]
  },
  {
   "cell_type": "markdown",
   "metadata": {},
   "source": [
    "### 4. Under constraints of lack of data which model performs better?"
   ]
  },
  {
   "cell_type": "code",
   "execution_count": 204,
   "metadata": {},
   "outputs": [],
   "source": [
    "#data_2 = data.iloc[-int(len(data) / 2) :]   #just take 1/2 last instances\n",
    "data_8 = data.iloc[-int(len(data) / 8) :]   #just take 1/8 last instances\n",
    "data_16 = data.iloc[-int(len(data) / 16) :]   #just take 1/16 last instances\n",
    "data_64 = data.iloc[-int(len(data) / 64) :]   #just take 1/64 last instances\n",
    "data_256 = data.iloc[-int(len(data) / 256) :]   #just take 1/256 last instances"
   ]
  },
  {
   "cell_type": "code",
   "execution_count": 205,
   "metadata": {},
   "outputs": [],
   "source": [
    "all_ids = data['SessionID'].unique()\n",
    "random.shuffle(all_ids)"
   ]
  },
  {
   "cell_type": "code",
   "execution_count": 206,
   "metadata": {},
   "outputs": [
    {
     "name": "stdout",
     "output_type": "stream",
     "text": [
      "Finished_Short\n",
      "Finished_Short\n",
      "Finished_Short\n",
      "Finished_Short\n"
     ]
    }
   ],
   "source": [
    "#ids = all_ids[: int(len(all_ids) / 2)]\n",
    "#data_2 = data[data['SessionID'].isin(ids)]\n",
    "print('Finished_Short')\n",
    "\n",
    "ids = all_ids[: int(len(all_ids) / 8)]\n",
    "data_8 = data[data['SessionID'].isin(ids)]\n",
    "print('Finished_Short')\n",
    "\n",
    "ids = all_ids[: int(len(all_ids) / 16)]\n",
    "data_16 = data[data['SessionID'].isin(ids)]\n",
    "print('Finished_Short')\n",
    "\n",
    "ids = all_ids[: int(len(all_ids) / 64)]\n",
    "data_64 = data[data['SessionID'].isin(ids)]\n",
    "print('Finished_Short')\n",
    "\n",
    "ids = all_ids[: int(len(all_ids) / 256)]\n",
    "data_256 = data[data['SessionID'].isin(ids)]\n",
    "\n",
    "#data_2.to_csv('4-1(2 portion).csv', index=False)\n",
    "data_8.to_csv('4-2(8 portion).csv', index=False)\n",
    "data_16.to_csv('4-3(16 portion).csv', index=False)\n",
    "data_64.to_csv('4-4(64 portion).csv', index=False)\n",
    "data_256.to_csv('4-5(256 portion).csv', index=False)"
   ]
  },
  {
   "cell_type": "code",
   "execution_count": 207,
   "metadata": {},
   "outputs": [],
   "source": [
    "#del data_2\n",
    "del data_8\n",
    "del data_16\n",
    "del data_64\n",
    "del data_256"
   ]
  },
  {
   "cell_type": "markdown",
   "metadata": {},
   "source": [
    "### 5. How to evaluate recommendation system in a standard way?"
   ]
  },
  {
   "cell_type": "markdown",
   "metadata": {},
   "source": [
    "**Train Using 4-3(16 portion).csv and measure the following metrics on test set for K = 1, 3, 5, 10, 20**:\n",
    "\n",
    "**Experiments should be done on the same machine**\n",
    "\n",
    "a. items popularity = Average(Frequency of predicted item from training set / Frequency of most frequent item in training set)  \n",
    "\n",
    "b. item coverage = (Number of distinct predicted items / Number of distinct total items in test set).\n",
    "\n",
    "c. Mean Reciprocal Rank\n",
    "\n",
    "d. Recall\n",
    "\n",
    "d. Time (Training Time + Testing Time) and Memory complexities"
   ]
  },
  {
   "cell_type": "markdown",
   "metadata": {},
   "source": [
    "# CIKMCUP"
   ]
  },
  {
   "cell_type": "code",
   "execution_count": 28,
   "metadata": {},
   "outputs": [],
   "source": [
    "data = pd.read_csv('Digintica/Digintica_train.csv')\n",
    "data_test = pd.read_csv('Digintica/Digintica_test.csv')\n",
    "\n",
    "prv_item = -1; prv_ssn = -1; inx = []\n",
    "for i, row in data.iterrows():\n",
    "    if prv_ssn == row['sessionId'] and prv_item == row['itemId']:\n",
    "        inx.append(i)\n",
    "    prv_ssn = row['sessionId']; prv_item = row['itemId']\n",
    "\n",
    "data.drop(data.index[inx], inplace=True)"
   ]
  },
  {
   "cell_type": "code",
   "execution_count": 9,
   "metadata": {},
   "outputs": [
    {
     "data": {
      "text/html": [
       "<div>\n",
       "<style scoped>\n",
       "    .dataframe tbody tr th:only-of-type {\n",
       "        vertical-align: middle;\n",
       "    }\n",
       "\n",
       "    .dataframe tbody tr th {\n",
       "        vertical-align: top;\n",
       "    }\n",
       "\n",
       "    .dataframe thead th {\n",
       "        text-align: right;\n",
       "    }\n",
       "</style>\n",
       "<table border=\"1\" class=\"dataframe\">\n",
       "  <thead>\n",
       "    <tr style=\"text-align: right;\">\n",
       "      <th></th>\n",
       "      <th>sessionId</th>\n",
       "      <th>userId</th>\n",
       "      <th>itemId</th>\n",
       "      <th>timeframe</th>\n",
       "      <th>eventdate</th>\n",
       "      <th>category</th>\n",
       "      <th>price</th>\n",
       "    </tr>\n",
       "  </thead>\n",
       "  <tbody>\n",
       "    <tr>\n",
       "      <td>0</td>\n",
       "      <td>4076</td>\n",
       "      <td>1794.0</td>\n",
       "      <td>30895</td>\n",
       "      <td>17862</td>\n",
       "      <td>2016-01-01</td>\n",
       "      <td>88.0</td>\n",
       "      <td>9.0</td>\n",
       "    </tr>\n",
       "    <tr>\n",
       "      <td>1</td>\n",
       "      <td>4077</td>\n",
       "      <td>1795.0</td>\n",
       "      <td>79203</td>\n",
       "      <td>9430</td>\n",
       "      <td>2016-01-01</td>\n",
       "      <td>619.0</td>\n",
       "      <td>9.0</td>\n",
       "    </tr>\n",
       "    <tr>\n",
       "      <td>2</td>\n",
       "      <td>4733</td>\n",
       "      <td>2072.0</td>\n",
       "      <td>36031</td>\n",
       "      <td>15524</td>\n",
       "      <td>2016-01-01</td>\n",
       "      <td>822.0</td>\n",
       "      <td>9.0</td>\n",
       "    </tr>\n",
       "    <tr>\n",
       "      <td>3</td>\n",
       "      <td>4734</td>\n",
       "      <td>2073.0</td>\n",
       "      <td>89649</td>\n",
       "      <td>8400</td>\n",
       "      <td>2016-01-01</td>\n",
       "      <td>446.0</td>\n",
       "      <td>7.0</td>\n",
       "    </tr>\n",
       "    <tr>\n",
       "      <td>4</td>\n",
       "      <td>4735</td>\n",
       "      <td>2074.0</td>\n",
       "      <td>5602</td>\n",
       "      <td>75323</td>\n",
       "      <td>2016-01-01</td>\n",
       "      <td>495.0</td>\n",
       "      <td>6.0</td>\n",
       "    </tr>\n",
       "  </tbody>\n",
       "</table>\n",
       "</div>"
      ],
      "text/plain": [
       "   sessionId  userId  itemId  timeframe   eventdate  category  price\n",
       "0       4076  1794.0   30895      17862  2016-01-01      88.0    9.0\n",
       "1       4077  1795.0   79203       9430  2016-01-01     619.0    9.0\n",
       "2       4733  2072.0   36031      15524  2016-01-01     822.0    9.0\n",
       "3       4734  2073.0   89649       8400  2016-01-01     446.0    7.0\n",
       "4       4735  2074.0    5602      75323  2016-01-01     495.0    6.0"
      ]
     },
     "execution_count": 9,
     "metadata": {},
     "output_type": "execute_result"
    }
   ],
   "source": [
    "data.head()"
   ]
  },
  {
   "cell_type": "markdown",
   "metadata": {},
   "source": [
    "### 2. Which deep learning model is better for different dataset meta-features values using only Session ID and item ID\n",
    "a. Which model performs better when we have short/long session length?"
   ]
  },
  {
   "cell_type": "code",
   "execution_count": 68,
   "metadata": {},
   "outputs": [],
   "source": [
    "data_grouped = data.groupby('sessionId')"
   ]
  },
  {
   "cell_type": "code",
   "execution_count": 69,
   "metadata": {},
   "outputs": [
    {
     "name": "stdout",
     "output_type": "stream",
     "text": [
      "Finished_Short\n",
      "Finished_Intermediate\n",
      "Finished_Long\n"
     ]
    }
   ],
   "source": [
    "## Keep Only Short Sessions < 5\n",
    "data_short = data_grouped.filter(lambda x: len(x) < 5)\n",
    "print('Finished_Short')\n",
    "\n",
    "## Keep Only Intermediate Sessions >= 5 and < 10\n",
    "data_intermediate = data_grouped.filter(lambda x: len(x) >= 5 and len(x) < 10)\n",
    "print('Finished_Intermediate')\n",
    "\n",
    "## Keep Only Long Sessions >= 10\n",
    "data_long = data_grouped.filter(lambda x: len(x) >= 10)\n",
    "print('Finished_Long')"
   ]
  },
  {
   "cell_type": "code",
   "execution_count": 70,
   "metadata": {},
   "outputs": [
    {
     "data": {
      "text/html": [
       "<div>\n",
       "<style scoped>\n",
       "    .dataframe tbody tr th:only-of-type {\n",
       "        vertical-align: middle;\n",
       "    }\n",
       "\n",
       "    .dataframe tbody tr th {\n",
       "        vertical-align: top;\n",
       "    }\n",
       "\n",
       "    .dataframe thead th {\n",
       "        text-align: right;\n",
       "    }\n",
       "</style>\n",
       "<table border=\"1\" class=\"dataframe\">\n",
       "  <thead>\n",
       "    <tr style=\"text-align: right;\">\n",
       "      <th></th>\n",
       "      <th>sessionId</th>\n",
       "      <th>userId</th>\n",
       "      <th>itemId</th>\n",
       "      <th>timeframe</th>\n",
       "      <th>eventdate</th>\n",
       "      <th>category</th>\n",
       "      <th>price</th>\n",
       "    </tr>\n",
       "  </thead>\n",
       "  <tbody>\n",
       "    <tr>\n",
       "      <td>0</td>\n",
       "      <td>4076</td>\n",
       "      <td>1794.0</td>\n",
       "      <td>30895</td>\n",
       "      <td>17862</td>\n",
       "      <td>2016-01-01</td>\n",
       "      <td>88.0</td>\n",
       "      <td>9.0</td>\n",
       "    </tr>\n",
       "    <tr>\n",
       "      <td>1</td>\n",
       "      <td>4077</td>\n",
       "      <td>1795.0</td>\n",
       "      <td>79203</td>\n",
       "      <td>9430</td>\n",
       "      <td>2016-01-01</td>\n",
       "      <td>619.0</td>\n",
       "      <td>9.0</td>\n",
       "    </tr>\n",
       "    <tr>\n",
       "      <td>2</td>\n",
       "      <td>4733</td>\n",
       "      <td>2072.0</td>\n",
       "      <td>36031</td>\n",
       "      <td>15524</td>\n",
       "      <td>2016-01-01</td>\n",
       "      <td>822.0</td>\n",
       "      <td>9.0</td>\n",
       "    </tr>\n",
       "    <tr>\n",
       "      <td>3</td>\n",
       "      <td>4734</td>\n",
       "      <td>2073.0</td>\n",
       "      <td>89649</td>\n",
       "      <td>8400</td>\n",
       "      <td>2016-01-01</td>\n",
       "      <td>446.0</td>\n",
       "      <td>7.0</td>\n",
       "    </tr>\n",
       "    <tr>\n",
       "      <td>4</td>\n",
       "      <td>4735</td>\n",
       "      <td>2074.0</td>\n",
       "      <td>5602</td>\n",
       "      <td>75323</td>\n",
       "      <td>2016-01-01</td>\n",
       "      <td>495.0</td>\n",
       "      <td>6.0</td>\n",
       "    </tr>\n",
       "  </tbody>\n",
       "</table>\n",
       "</div>"
      ],
      "text/plain": [
       "   sessionId  userId  itemId  timeframe   eventdate  category  price\n",
       "0       4076  1794.0   30895      17862  2016-01-01      88.0    9.0\n",
       "1       4077  1795.0   79203       9430  2016-01-01     619.0    9.0\n",
       "2       4733  2072.0   36031      15524  2016-01-01     822.0    9.0\n",
       "3       4734  2073.0   89649       8400  2016-01-01     446.0    7.0\n",
       "4       4735  2074.0    5602      75323  2016-01-01     495.0    6.0"
      ]
     },
     "execution_count": 70,
     "metadata": {},
     "output_type": "execute_result"
    }
   ],
   "source": [
    "data_short.head()"
   ]
  },
  {
   "cell_type": "code",
   "execution_count": 71,
   "metadata": {},
   "outputs": [],
   "source": [
    "#Save Splits Short\n",
    "data_short.to_csv('2-a-1(short).csv', index=False)\n",
    "#Save Splits Intermediate\n",
    "data_intermediate.to_csv('2-a-2(Intermediate).csv', index=False)\n",
    "#Save Splits Long\n",
    "data_long.to_csv('2-a-3(Long).csv', index=False)"
   ]
  },
  {
   "cell_type": "code",
   "execution_count": 72,
   "metadata": {},
   "outputs": [],
   "source": [
    "del data_grouped\n",
    "del data_short\n",
    "del data_intermediate\n",
    "del data_long"
   ]
  },
  {
   "cell_type": "markdown",
   "metadata": {},
   "source": [
    "c. Which model performs better for small/large period of time of dataset collection?"
   ]
  },
  {
   "cell_type": "code",
   "execution_count": 30,
   "metadata": {},
   "outputs": [],
   "source": [
    "times = data['eventdate'].to_numpy()"
   ]
  },
  {
   "cell_type": "code",
   "execution_count": null,
   "metadata": {},
   "outputs": [],
   "source": [
    "for i in range(len(times)):\n",
    "    times[i] = time.mktime(datetime.strptime(times[i], \"%Y-%m-%d\").timetuple())\n",
    "data['eventdate'] = times"
   ]
  },
  {
   "cell_type": "code",
   "execution_count": 33,
   "metadata": {},
   "outputs": [
    {
     "data": {
      "text/html": [
       "<div>\n",
       "<style scoped>\n",
       "    .dataframe tbody tr th:only-of-type {\n",
       "        vertical-align: middle;\n",
       "    }\n",
       "\n",
       "    .dataframe tbody tr th {\n",
       "        vertical-align: top;\n",
       "    }\n",
       "\n",
       "    .dataframe thead th {\n",
       "        text-align: right;\n",
       "    }\n",
       "</style>\n",
       "<table border=\"1\" class=\"dataframe\">\n",
       "  <thead>\n",
       "    <tr style=\"text-align: right;\">\n",
       "      <th></th>\n",
       "      <th>sessionId</th>\n",
       "      <th>userId</th>\n",
       "      <th>itemId</th>\n",
       "      <th>timeframe</th>\n",
       "      <th>eventdate</th>\n",
       "      <th>category</th>\n",
       "      <th>price</th>\n",
       "    </tr>\n",
       "  </thead>\n",
       "  <tbody>\n",
       "    <tr>\n",
       "      <td>0</td>\n",
       "      <td>4076</td>\n",
       "      <td>1794.0</td>\n",
       "      <td>30895</td>\n",
       "      <td>17862</td>\n",
       "      <td>1.4516e+09</td>\n",
       "      <td>88.0</td>\n",
       "      <td>9.0</td>\n",
       "    </tr>\n",
       "    <tr>\n",
       "      <td>1</td>\n",
       "      <td>4077</td>\n",
       "      <td>1795.0</td>\n",
       "      <td>79203</td>\n",
       "      <td>9430</td>\n",
       "      <td>1.4516e+09</td>\n",
       "      <td>619.0</td>\n",
       "      <td>9.0</td>\n",
       "    </tr>\n",
       "    <tr>\n",
       "      <td>2</td>\n",
       "      <td>4733</td>\n",
       "      <td>2072.0</td>\n",
       "      <td>36031</td>\n",
       "      <td>15524</td>\n",
       "      <td>1.4516e+09</td>\n",
       "      <td>822.0</td>\n",
       "      <td>9.0</td>\n",
       "    </tr>\n",
       "    <tr>\n",
       "      <td>3</td>\n",
       "      <td>4734</td>\n",
       "      <td>2073.0</td>\n",
       "      <td>89649</td>\n",
       "      <td>8400</td>\n",
       "      <td>1.4516e+09</td>\n",
       "      <td>446.0</td>\n",
       "      <td>7.0</td>\n",
       "    </tr>\n",
       "    <tr>\n",
       "      <td>4</td>\n",
       "      <td>4735</td>\n",
       "      <td>2074.0</td>\n",
       "      <td>5602</td>\n",
       "      <td>75323</td>\n",
       "      <td>1.4516e+09</td>\n",
       "      <td>495.0</td>\n",
       "      <td>6.0</td>\n",
       "    </tr>\n",
       "  </tbody>\n",
       "</table>\n",
       "</div>"
      ],
      "text/plain": [
       "   sessionId  userId  itemId  timeframe   eventdate  category  price\n",
       "0       4076  1794.0   30895      17862  1.4516e+09      88.0    9.0\n",
       "1       4077  1795.0   79203       9430  1.4516e+09     619.0    9.0\n",
       "2       4733  2072.0   36031      15524  1.4516e+09     822.0    9.0\n",
       "3       4734  2073.0   89649       8400  1.4516e+09     446.0    7.0\n",
       "4       4735  2074.0    5602      75323  1.4516e+09     495.0    6.0"
      ]
     },
     "execution_count": 33,
     "metadata": {},
     "output_type": "execute_result"
    }
   ],
   "source": [
    "data.head()"
   ]
  },
  {
   "cell_type": "code",
   "execution_count": 79,
   "metadata": {},
   "outputs": [],
   "source": [
    "sec_per_day = 86400\n",
    "last_date = data.iloc[-1,4]\n",
    "first_date = data.iloc[0,4]\n",
    "#two days\n",
    "data_recent2 = data[data['eventdate'] > (last_date - sec_per_day * 2)]\n",
    "#one Week\n",
    "data_recent7 = data[data['eventdate'] > (last_date - sec_per_day * 7)]\n",
    "#two weeks\n",
    "data_recent14 = data[data['eventdate'] > (last_date - sec_per_day * 14)]\n",
    "#One Month\n",
    "data_recent30 = data[data['eventdate'] > (last_date - sec_per_day * 30)]\n",
    "#More than One Month\n",
    "#data"
   ]
  },
  {
   "cell_type": "code",
   "execution_count": 36,
   "metadata": {},
   "outputs": [
    {
     "data": {
      "text/html": [
       "<div>\n",
       "<style scoped>\n",
       "    .dataframe tbody tr th:only-of-type {\n",
       "        vertical-align: middle;\n",
       "    }\n",
       "\n",
       "    .dataframe tbody tr th {\n",
       "        vertical-align: top;\n",
       "    }\n",
       "\n",
       "    .dataframe thead th {\n",
       "        text-align: right;\n",
       "    }\n",
       "</style>\n",
       "<table border=\"1\" class=\"dataframe\">\n",
       "  <thead>\n",
       "    <tr style=\"text-align: right;\">\n",
       "      <th></th>\n",
       "      <th>sessionId</th>\n",
       "      <th>userId</th>\n",
       "      <th>itemId</th>\n",
       "      <th>timeframe</th>\n",
       "      <th>eventdate</th>\n",
       "      <th>category</th>\n",
       "      <th>price</th>\n",
       "    </tr>\n",
       "  </thead>\n",
       "  <tbody>\n",
       "    <tr>\n",
       "      <td>1190647</td>\n",
       "      <td>2192</td>\n",
       "      <td>975.0</td>\n",
       "      <td>33914</td>\n",
       "      <td>11747</td>\n",
       "      <td>1.46456e+09</td>\n",
       "      <td>88.0</td>\n",
       "      <td>9.0</td>\n",
       "    </tr>\n",
       "    <tr>\n",
       "      <td>1190648</td>\n",
       "      <td>2195</td>\n",
       "      <td>NaN</td>\n",
       "      <td>18363</td>\n",
       "      <td>10356</td>\n",
       "      <td>1.46456e+09</td>\n",
       "      <td>191.0</td>\n",
       "      <td>7.0</td>\n",
       "    </tr>\n",
       "    <tr>\n",
       "      <td>1190649</td>\n",
       "      <td>2663</td>\n",
       "      <td>NaN</td>\n",
       "      <td>389860</td>\n",
       "      <td>17571</td>\n",
       "      <td>1.46456e+09</td>\n",
       "      <td>47.0</td>\n",
       "      <td>10.0</td>\n",
       "    </tr>\n",
       "    <tr>\n",
       "      <td>1190650</td>\n",
       "      <td>2664</td>\n",
       "      <td>NaN</td>\n",
       "      <td>134497</td>\n",
       "      <td>106376</td>\n",
       "      <td>1.46456e+09</td>\n",
       "      <td>528.0</td>\n",
       "      <td>9.0</td>\n",
       "    </tr>\n",
       "    <tr>\n",
       "      <td>1190651</td>\n",
       "      <td>2664</td>\n",
       "      <td>NaN</td>\n",
       "      <td>103537</td>\n",
       "      <td>400197</td>\n",
       "      <td>1.46456e+09</td>\n",
       "      <td>528.0</td>\n",
       "      <td>9.0</td>\n",
       "    </tr>\n",
       "  </tbody>\n",
       "</table>\n",
       "</div>"
      ],
      "text/plain": [
       "         sessionId  userId  itemId  timeframe    eventdate  category  price\n",
       "1190647       2192   975.0   33914      11747  1.46456e+09      88.0    9.0\n",
       "1190648       2195     NaN   18363      10356  1.46456e+09     191.0    7.0\n",
       "1190649       2663     NaN  389860      17571  1.46456e+09      47.0   10.0\n",
       "1190650       2664     NaN  134497     106376  1.46456e+09     528.0    9.0\n",
       "1190651       2664     NaN  103537     400197  1.46456e+09     528.0    9.0"
      ]
     },
     "execution_count": 36,
     "metadata": {},
     "output_type": "execute_result"
    }
   ],
   "source": [
    "data_recent2.head()"
   ]
  },
  {
   "cell_type": "code",
   "execution_count": 37,
   "metadata": {},
   "outputs": [],
   "source": [
    "#Save 2 days\n",
    "data_recent2.to_csv('2-c-1(2days).csv', index=False)\n",
    "#Save 7 days\n",
    "data_recent7.to_csv('2-c-2(7days).csv', index=False)\n",
    "#Save 14 days\n",
    "data_recent14.to_csv('2-c-3(14days).csv', index=False)\n",
    "#Save 30 days\n",
    "data_recent30.to_csv('2-c-4(30days).csv', index=False)"
   ]
  },
  {
   "cell_type": "code",
   "execution_count": 38,
   "metadata": {},
   "outputs": [],
   "source": [
    "del data_recent2\n",
    "del data_recent7\n",
    "del data_recent14\n",
    "del data_recent30"
   ]
  },
  {
   "cell_type": "markdown",
   "metadata": {},
   "source": [
    "d. How model is affected by data recency? Recent data is enough or needs history?"
   ]
  },
  {
   "cell_type": "code",
   "execution_count": 47,
   "metadata": {},
   "outputs": [],
   "source": [
    "#first_date = last_date - sec_per_day * 150\n",
    "first_date = data.iloc[0,4]"
   ]
  },
  {
   "cell_type": "code",
   "execution_count": 62,
   "metadata": {},
   "outputs": [],
   "source": [
    "#most recent 10\n",
    "data_recent10 = data[data['eventdate'] > (last_date - sec_per_day * 10)]\n",
    "#most old 40\n",
    "data_old10 = data[data['eventdate'] < (first_date + sec_per_day * 45)]\n",
    "#mix old 35 and recent 5\n",
    "data_mix1 = data[data['eventdate'] < (first_date + sec_per_day * 35)] \n",
    "data_mix2 = data[data['eventdate'] > (last_date - sec_per_day * 5)]\n",
    "data_mix = data_mix1.append(data_mix2, ignore_index=True)"
   ]
  },
  {
   "cell_type": "code",
   "execution_count": 63,
   "metadata": {},
   "outputs": [],
   "source": [
    "#Save most recent\n",
    "data_recent10.to_csv('2-d-1(recent).csv', index=False)\n",
    "#Save most old\n",
    "data_old10.to_csv('2-d-2(old).csv', index=False)\n",
    "#Save mix\n",
    "data_mix.to_csv('2-d-3(mix).csv', index=False)"
   ]
  },
  {
   "cell_type": "code",
   "execution_count": null,
   "metadata": {},
   "outputs": [],
   "source": [
    "del data_recent10\n",
    "del data_old150\n",
    "del data_mix"
   ]
  },
  {
   "cell_type": "markdown",
   "metadata": {},
   "source": [
    "e. Which model performs better at cold start problem (new item (freq < 50) / short session (length < 5) ) ?\n",
    "\n",
    "**Train Using 2-c-4(30days).csv and Validate using the following splits**"
   ]
  },
  {
   "cell_type": "code",
   "execution_count": 74,
   "metadata": {},
   "outputs": [],
   "source": [
    "data_test = pd.read_csv('Digintica/Digintica_test.csv')\n",
    "data_test_grouped = data_test.groupby('sessionId')"
   ]
  },
  {
   "cell_type": "markdown",
   "metadata": {},
   "source": [
    "**Sessions Part**"
   ]
  },
  {
   "cell_type": "code",
   "execution_count": 75,
   "metadata": {},
   "outputs": [
    {
     "name": "stdout",
     "output_type": "stream",
     "text": [
      "Finished_Short\n",
      "Finished_Intermediate\n",
      "Finished_Long\n"
     ]
    }
   ],
   "source": [
    "## Keep Only Short Test Sessions < 5\n",
    "data_test_short = data_test_grouped.filter(lambda x: len(x) < 5)\n",
    "print('Finished_Short')\n",
    "\n",
    "## Keep Only Intermediate Test Sessions >= 5 and < 10\n",
    "data_test_intermediate = data_test_grouped.filter(lambda x: len(x) >= 5 and len(x) < 10)\n",
    "print('Finished_Intermediate')\n",
    "\n",
    "## Keep Only Long Test Sessions >= 10\n",
    "data_test_long = data_test_grouped.filter(lambda x: len(x) >= 10)\n",
    "print('Finished_Long')"
   ]
  },
  {
   "cell_type": "code",
   "execution_count": 76,
   "metadata": {},
   "outputs": [],
   "source": [
    "#Save Splits Short\n",
    "data_test_short.to_csv('2-e-1(test-short).csv', index=False)\n",
    "#Save Splits Intermediate\n",
    "data_test_intermediate.to_csv('2-e-3(test-Intermediate).csv', index=False)\n",
    "#Save Splits Long\n",
    "data_test_long.to_csv('2-e-3(test-Long).csv', index=False)"
   ]
  },
  {
   "cell_type": "code",
   "execution_count": 77,
   "metadata": {},
   "outputs": [],
   "source": [
    "del data_test_short\n",
    "del data_test_intermediate\n",
    "del data_test_long"
   ]
  },
  {
   "cell_type": "markdown",
   "metadata": {},
   "source": [
    "**Items Part**"
   ]
  },
  {
   "cell_type": "code",
   "execution_count": 85,
   "metadata": {},
   "outputs": [],
   "source": [
    "items_counts = data_recent30['itemId'].value_counts().to_dict()\n",
    "data_test_cpy = data_test.copy(deep = True)"
   ]
  },
  {
   "cell_type": "code",
   "execution_count": 86,
   "metadata": {},
   "outputs": [],
   "source": [
    "for i, row in data_test_cpy.iterrows():\n",
    "    if row['itemId'] in items_counts.keys() and items_counts[row['itemId']] < 10:\n",
    "        data_test_cpy.loc[i,'freq_threshold'] = 10\n",
    "    elif row['itemId'] in items_counts.keys() and items_counts[row['itemId']] < 30:\n",
    "        data_test_cpy.loc[i,'freq_threshold'] = 30\n",
    "    elif row['itemId'] in items_counts.keys() and items_counts[row['itemId']] < 60:\n",
    "        data_test_cpy.loc[i,'freq_threshold'] = 60\n",
    "    elif row['itemId'] in items_counts.keys() and items_counts[row['itemId']] < 100:\n",
    "        data_test_cpy.loc[i,'freq_threshold'] = 100\n",
    "    else:\n",
    "        data_test_cpy.loc[i,'freq_threshold'] = 101"
   ]
  },
  {
   "cell_type": "code",
   "execution_count": 87,
   "metadata": {},
   "outputs": [],
   "source": [
    "#Save Splits Short\n",
    "data_test_cpy.to_csv('2-e-4(freq-threshold).csv', index=False)"
   ]
  },
  {
   "cell_type": "code",
   "execution_count": 88,
   "metadata": {},
   "outputs": [],
   "source": [
    "del data_test_cpy"
   ]
  },
  {
   "cell_type": "markdown",
   "metadata": {},
   "source": [
    "f. Which model performs better at small/high number of recommended items K (ie. Recall@K - MRR@K) ?"
   ]
  },
  {
   "cell_type": "markdown",
   "metadata": {},
   "source": [
    "**For each of the above experiments:**\n",
    "1. Record Recall@3, Recall@5, Recall@10, Recall@20, Recall@30\n",
    "2. Record MRR@3, MRR@5, MRR@10, MRR@20, MRR@30"
   ]
  },
  {
   "cell_type": "markdown",
   "metadata": {},
   "source": [
    "### 4. Under constraints of lack of data which model performs better?"
   ]
  },
  {
   "cell_type": "code",
   "execution_count": 89,
   "metadata": {},
   "outputs": [],
   "source": [
    "data_2 = data.iloc[-int(len(data) / 2) :]   #just take 1/2 last instances\n",
    "data_8 = data.iloc[-int(len(data) / 8) :]   #just take 1/8 last instances\n",
    "data_16 = data.iloc[-int(len(data) / 16) :]   #just take 1/16 last instances\n",
    "data_64 = data.iloc[-int(len(data) / 64) :]   #just take 1/64 last instances\n",
    "data_256 = data.iloc[-int(len(data) / 256) :]   #just take 1/256 last instances"
   ]
  },
  {
   "cell_type": "code",
   "execution_count": 90,
   "metadata": {},
   "outputs": [],
   "source": [
    "all_ids = data['sessionId'].unique()\n",
    "random.shuffle(all_ids)"
   ]
  },
  {
   "cell_type": "code",
   "execution_count": 91,
   "metadata": {},
   "outputs": [
    {
     "name": "stdout",
     "output_type": "stream",
     "text": [
      "Finished_Short\n",
      "Finished_Short\n",
      "Finished_Short\n",
      "Finished_Short\n"
     ]
    }
   ],
   "source": [
    "ids = all_ids[: int(len(all_ids) / 2)]\n",
    "data_2 = data[data['sessionId'].isin(ids)]\n",
    "print('Finished_Short')\n",
    "\n",
    "ids = all_ids[: int(len(all_ids) / 8)]\n",
    "data_8 = data[data['sessionId'].isin(ids)]\n",
    "print('Finished_Short')\n",
    "\n",
    "ids = all_ids[: int(len(all_ids) / 16)]\n",
    "data_16 = data[data['sessionId'].isin(ids)]\n",
    "print('Finished_Short')\n",
    "\n",
    "ids = all_ids[: int(len(all_ids) / 64)]\n",
    "data_64 = data[data['sessionId'].isin(ids)]\n",
    "print('Finished_Short')\n",
    "\n",
    "ids = all_ids[: int(len(all_ids) / 256)]\n",
    "data_256 = data[data['sessionId'].isin(ids)]\n",
    "\n",
    "data_2.to_csv('4-1(2 portion).csv', index=False)\n",
    "data_8.to_csv('4-2(8 portion).csv', index=False)\n",
    "data_16.to_csv('4-3(16 portion).csv', index=False)\n",
    "data_64.to_csv('4-4(64 portion).csv', index=False)\n",
    "data_256.to_csv('4-5(256 portion).csv', index=False)"
   ]
  },
  {
   "cell_type": "code",
   "execution_count": null,
   "metadata": {},
   "outputs": [],
   "source": [
    "del data_2\n",
    "del data_8\n",
    "del data_16\n",
    "del data_64\n",
    "del data_256"
   ]
  },
  {
   "cell_type": "markdown",
   "metadata": {},
   "source": [
    "### 5. How to evaluate recommendation system in a standard way?"
   ]
  },
  {
   "cell_type": "markdown",
   "metadata": {},
   "source": [
    "**Train Using 2-c-4(30days).csv and measure the following metrics on test set for K = 5, 10, 20, 30**:\n",
    "\n",
    "**Experiments should be done on the same machine**\n",
    "\n",
    "a. items popularity = Average(Frequency of predicted item from training set / Frequency of most frequent item in trainig set)  \n",
    "\n",
    "b. item coverage = (Number of distinct predicted items / Number of distinct total items in test set).\n",
    "\n",
    "c. Mean Reciprocal Rank\n",
    "\n",
    "d. Recall\n",
    "\n",
    "d. Time (Training Time + Testing Time) and Memory complexities"
   ]
  },
  {
   "cell_type": "code",
   "execution_count": 77,
   "metadata": {},
   "outputs": [],
   "source": [
    "del data_grouped\n",
    "del data_short\n",
    "del data_intermediate\n",
    "del data_long"
   ]
  }
 ],
 "metadata": {
  "kernelspec": {
   "display_name": "Python 3",
   "language": "python",
   "name": "python3"
  },
  "language_info": {
   "codemirror_mode": {
    "name": "ipython",
    "version": 3
   },
   "file_extension": ".py",
   "mimetype": "text/x-python",
   "name": "python",
   "nbconvert_exporter": "python",
   "pygments_lexer": "ipython3",
   "version": "3.7.4"
  }
 },
 "nbformat": 4,
 "nbformat_minor": 2
}
